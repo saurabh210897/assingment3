{
 "cells": [
  {
   "cell_type": "code",
   "execution_count": 1,
   "id": "05f2443d-6b0a-4987-aea7-705059b38cba",
   "metadata": {},
   "outputs": [],
   "source": [
    "#Q1  Which keyword is used to create a function? Create a function to return a list of odd numbers in the \n",
    "#range of 1 to 25."
   ]
  },
  {
   "cell_type": "code",
   "execution_count": 2,
   "id": "4928bfb1-c0a1-4e80-a1f8-912a210bb2d4",
   "metadata": {},
   "outputs": [],
   "source": [
    "#A1 def key word used infunction"
   ]
  },
  {
   "cell_type": "code",
   "execution_count": 12,
   "id": "d1d77703-15da-49b4-bcfb-80b2ea0a42ad",
   "metadata": {},
   "outputs": [],
   "source": [
    "def odd_numbers():\n",
    "    return [num for num in range(1, 26) if num % 2 != 0]"
   ]
  },
  {
   "cell_type": "code",
   "execution_count": 13,
   "id": "f4005ef6-2331-4759-92c7-67ce8fdd4b85",
   "metadata": {},
   "outputs": [
    {
     "data": {
      "text/plain": [
       "[1, 3, 5, 7, 9, 11, 13, 15, 17, 19, 21, 23, 25]"
      ]
     },
     "execution_count": 13,
     "metadata": {},
     "output_type": "execute_result"
    }
   ],
   "source": [
    "odd_numbers()"
   ]
  },
  {
   "cell_type": "code",
   "execution_count": 14,
   "id": "a5d24f03-26a9-4fca-9c4a-1ac15e904ebe",
   "metadata": {},
   "outputs": [],
   "source": [
    "#Q2  Why *args and **kwargs is used in some functions? Create a function each for *args and **kwargs \n",
    "#to demonstrate their use."
   ]
  },
  {
   "cell_type": "code",
   "execution_count": 15,
   "id": "5a59c42b-0eb2-4a41-bfe6-45fb38ae70e6",
   "metadata": {},
   "outputs": [],
   "source": [
    "#A2 we use  Why *args and **kwargs is used in some functions becouse as an argument when we are unsure about \n",
    "#the numberof arguments to pass in the function "
   ]
  },
  {
   "cell_type": "code",
   "execution_count": 16,
   "id": "8807f538-c33a-4c44-920f-711969fede3c",
   "metadata": {},
   "outputs": [],
   "source": [
    "def test(*args):\n",
    "    return args"
   ]
  },
  {
   "cell_type": "code",
   "execution_count": 21,
   "id": "f17b2722-365f-4aef-943e-1d5cb72e8fca",
   "metadata": {},
   "outputs": [
    {
     "data": {
      "text/plain": [
       "(1, 2, 3, 4)"
      ]
     },
     "execution_count": 21,
     "metadata": {},
     "output_type": "execute_result"
    }
   ],
   "source": [
    "test(1,2,3,4)"
   ]
  },
  {
   "cell_type": "code",
   "execution_count": 22,
   "id": "2f97aa2f-baa1-4180-95d1-abb6c682caf4",
   "metadata": {},
   "outputs": [],
   "source": [
    "def test1(**kwargs):\n",
    "    return kwargs"
   ]
  },
  {
   "cell_type": "code",
   "execution_count": 23,
   "id": "2a4dc8b1-5ef1-4f52-8ed8-ec97d65f354e",
   "metadata": {},
   "outputs": [
    {
     "data": {
      "text/plain": [
       "{'a': [1, 2, 3, 4], 'b': 'sudh', 'c': 23.45}"
      ]
     },
     "execution_count": 23,
     "metadata": {},
     "output_type": "execute_result"
    }
   ],
   "source": [
    "test1(a = [1,2,3,4] , b = \"sudh\" , c = 23.45)"
   ]
  },
  {
   "cell_type": "code",
   "execution_count": 24,
   "id": "93449383-3264-497d-b115-f92ec7669f29",
   "metadata": {},
   "outputs": [
    {
     "data": {
      "text/plain": [
       "tuple"
      ]
     },
     "execution_count": 24,
     "metadata": {},
     "output_type": "execute_result"
    }
   ],
   "source": [
    "type(test())"
   ]
  },
  {
   "cell_type": "code",
   "execution_count": 25,
   "id": "6da9fa47-fc51-448d-b6b0-bbad9cf924ff",
   "metadata": {},
   "outputs": [
    {
     "data": {
      "text/plain": [
       "dict"
      ]
     },
     "execution_count": 25,
     "metadata": {},
     "output_type": "execute_result"
    }
   ],
   "source": [
    "type(test1())"
   ]
  },
  {
   "cell_type": "code",
   "execution_count": 27,
   "id": "7c5fb389-a8d5-4c12-9c94-c7f9100a4f63",
   "metadata": {},
   "outputs": [],
   "source": [
    "#Q3   What is an iterator in python? Name the method used to initialise the iterator object and the method \n",
    "#used for iteration. Use these methods to print the first five elements of the given list [2, 4, 6, 8, 10, 12, 14, \n",
    "#6, 18, 20]."
   ]
  },
  {
   "cell_type": "code",
   "execution_count": 28,
   "id": "70c47fa7-2403-4b81-a16c-7021df44fb6c",
   "metadata": {},
   "outputs": [],
   "source": [
    "#A3 An iterator is an object that contains a countable number of values.\n",
    "#An iterator is an object that can be iterated upon, meaning that you can traverse through all the values.\n",
    "#Technically, in Python, an iterator is an object which implements the iterator protocol, which consist of \n",
    "#the methods __iter__() and __next__() ."
   ]
  },
  {
   "cell_type": "code",
   "execution_count": 29,
   "id": "cd151e16-2e60-4e88-8849-d4334146a64d",
   "metadata": {},
   "outputs": [
    {
     "name": "stdout",
     "output_type": "stream",
     "text": [
      "[2, 4, 6, 8, 10]\n"
     ]
    }
   ],
   "source": [
    "l = [2, 4, 6, 8, 10, 12, 14, 6, 18, 20]\n",
    "print(l[:5])"
   ]
  },
  {
   "cell_type": "code",
   "execution_count": 30,
   "id": "5390da19-94d8-4480-bd2b-610412b76166",
   "metadata": {},
   "outputs": [],
   "source": [
    "#Q4   What is a generator function in python? Why yield keyword is used? Give an example of a generator function. \n"
   ]
  },
  {
   "cell_type": "code",
   "execution_count": 31,
   "id": "c8cab1ac-7359-4b76-99ec-7b179eec27bb",
   "metadata": {},
   "outputs": [],
   "source": [
    "#A4 A Python generator function allows you to declare a function that behaves like an iterator,\n",
    "#providing a faster and easier way to create iterators. \n",
    "#They can be used on an abstract container of data to turn it into an iterable object like lists,\n",
    "#dictionaries and strings."
   ]
  },
  {
   "cell_type": "code",
   "execution_count": 32,
   "id": "4ebd5233-90b1-4b3e-b541-20a8b6fe26b7",
   "metadata": {},
   "outputs": [],
   "source": [
    "#  Fibonacci numbers\n",
    "def test_fib(n):\n",
    "    a,b = 0,1\n",
    "    for i in range(n):\n",
    "        yield a\n",
    "        a,b = b,a+b\n",
    "    "
   ]
  },
  {
   "cell_type": "code",
   "execution_count": 33,
   "id": "816d8fcf-511a-4cd7-8e88-09f45a27f7fe",
   "metadata": {},
   "outputs": [
    {
     "name": "stdout",
     "output_type": "stream",
     "text": [
      "0\n",
      "1\n",
      "1\n",
      "2\n",
      "3\n",
      "5\n",
      "8\n",
      "13\n",
      "21\n",
      "34\n"
     ]
    }
   ],
   "source": [
    "for i in test_fib(10):\n",
    "    print(i)"
   ]
  },
  {
   "cell_type": "code",
   "execution_count": 42,
   "id": "947e39e3-bd0d-424b-887b-f162ec24a705",
   "metadata": {},
   "outputs": [],
   "source": [
    "#Q4  Create a generator function for prime numbers less than 1000. Use the next() method to print the \n",
    "#first 20 prime numbers"
   ]
  },
  {
   "cell_type": "code",
   "execution_count": 43,
   "id": "d0efd880-cee1-45a1-81a7-874ea5528576",
   "metadata": {},
   "outputs": [],
   "source": [
    "def primes():\n",
    "    num = 2\n",
    "    while True:\n",
    "        if all(num % i != 0 for i in range(2, int(num**0.5) + 1)):\n",
    "            yield num\n",
    "        num += 1"
   ]
  },
  {
   "cell_type": "code",
   "execution_count": 44,
   "id": "9818bdb1-81c5-45e9-9076-b565a51a36e5",
   "metadata": {},
   "outputs": [
    {
     "name": "stdout",
     "output_type": "stream",
     "text": [
      "2\n",
      "3\n",
      "5\n",
      "7\n",
      "11\n",
      "13\n",
      "17\n",
      "19\n",
      "23\n",
      "29\n",
      "31\n",
      "37\n",
      "41\n",
      "43\n",
      "47\n",
      "53\n",
      "59\n",
      "61\n",
      "67\n",
      "71\n"
     ]
    }
   ],
   "source": [
    "prime_gen = primes()\n",
    "\n",
    "# Print the first 20 prime numbers\n",
    "for i in range(20):\n",
    "    print(next(prime_gen))"
   ]
  },
  {
   "cell_type": "code",
   "execution_count": 45,
   "id": "890bb2a8-605a-4d76-a816-f72b465b4a5e",
   "metadata": {},
   "outputs": [],
   "source": [
    "#Q5 Write a python program to print the first 10 Fibonacci numbers using a while loop.\n"
   ]
  },
  {
   "cell_type": "code",
   "execution_count": 4,
   "id": "58df6ccc-cb9c-48ee-a114-013c6bed6a65",
   "metadata": {},
   "outputs": [],
   "source": [
    "#  Fibonacci numbers\n",
    "def test_fib(n):\n",
    "    count = 0\n",
    "    a,b = 0,1\n",
    "    while count < n:\n",
    "        yield count\n",
    "        count = a + b\n",
    "        a=b\n",
    "        b=count\n",
    "    count += 1\n",
    "    "
   ]
  },
  {
   "cell_type": "code",
   "execution_count": 5,
   "id": "d1b33c01-9d3e-4902-be88-46c29ce868bd",
   "metadata": {},
   "outputs": [
    {
     "name": "stdout",
     "output_type": "stream",
     "text": [
      "0\n",
      "1\n",
      "2\n",
      "3\n",
      "5\n",
      "8\n"
     ]
    }
   ],
   "source": [
    "for i in test_fib(10):\n",
    "    print(i)"
   ]
  },
  {
   "cell_type": "code",
   "execution_count": 6,
   "id": "e4d7acf6-a112-4bac-ae85-9848bdc5a3cd",
   "metadata": {},
   "outputs": [],
   "source": [
    "#Q7. Write a List Comprehension to iterate through the given string: ‘pwskills’.\n",
    "\n",
    "#Expected output: ['p', 'w', 's', 'k', 'i', 'l', 'l', 's']"
   ]
  },
  {
   "cell_type": "code",
   "execution_count": 7,
   "id": "c12cb08c-6db3-4616-8d1c-270be192d460",
   "metadata": {},
   "outputs": [],
   "source": [
    "s = \"pwskills\""
   ]
  },
  {
   "cell_type": "code",
   "execution_count": 8,
   "id": "a68e79ed-f5e9-446f-86aa-558760249a1c",
   "metadata": {},
   "outputs": [
    {
     "data": {
      "text/plain": [
       "['P', 'W', 'S', 'K', 'I', 'L', 'L', 'S']"
      ]
     },
     "execution_count": 8,
     "metadata": {},
     "output_type": "execute_result"
    }
   ],
   "source": [
    "[i.upper() for i in s]"
   ]
  },
  {
   "cell_type": "code",
   "execution_count": 9,
   "id": "01d232c3-e011-4492-8d1c-32ba95092fd9",
   "metadata": {},
   "outputs": [],
   "source": [
    "#Q8. Write a python program to check whether a given number is Palindrome or not using a while loop."
   ]
  },
  {
   "cell_type": "code",
   "execution_count": 10,
   "id": "9ace471f-1ba9-42ff-bfa9-5fd17dd1110d",
   "metadata": {},
   "outputs": [],
   "source": [
    "#A2 A palindrome number is a number that remains the same when its digits are reversed. In other words,\n",
    "#if we read a palindrome number from left to right or from right to left, it will be the same number."
   ]
  },
  {
   "cell_type": "code",
   "execution_count": 13,
   "id": "160024e7-25c5-4f42-b2be-0b284d107a34",
   "metadata": {},
   "outputs": [
    {
     "name": "stdin",
     "output_type": "stream",
     "text": [
      "Enter a number:  121\n"
     ]
    },
    {
     "name": "stdout",
     "output_type": "stream",
     "text": [
      "The number is a palindrome\n"
     ]
    }
   ],
   "source": [
    "num = int(input(\"Enter a number: \"))   # take input from the user\n",
    "\n",
    "temp = num   # create a temporary variable to store the number\n",
    "\n",
    "rev = 0   # initialize a variable to store the reverse of the number\n",
    "\n",
    "while num > 0:\n",
    "    digit = num % 10   # get the last digit of the number (% remender take)\n",
    "    rev = rev * 10 + digit   # add the digit to the reverse variable\n",
    "    num = num // 10   # remove the last digit from the number and exclude 0.\n",
    "\n",
    "if temp == rev:\n",
    "    print(\"The number is a palindrome\")\n",
    "else:\n",
    "    print(\"The number is not a palindrome\")"
   ]
  },
  {
   "cell_type": "code",
   "execution_count": 14,
   "id": "48efdcd8-781c-4884-9da4-49de7a703d00",
   "metadata": {},
   "outputs": [],
   "source": [
    "#Q9  Write a code to print odd numbers from 1 to 100 using list comprehension.\n"
   ]
  },
  {
   "cell_type": "code",
   "execution_count": 17,
   "id": "e55e90e0-1134-4220-95b9-9144676c309f",
   "metadata": {},
   "outputs": [
    {
     "name": "stdout",
     "output_type": "stream",
     "text": [
      "[1, 3, 5, 7, 9, 11, 13, 15, 17, 19, 21, 23, 25, 27, 29, 31, 33, 35, 37, 39, 41, 43, 45, 47, 49, 51, 53, 55, 57, 59, 61, 63, 65, 67, 69, 71, 73, 75, 77, 79, 81, 83, 85, 87, 89, 91, 93, 95, 97, 99]\n"
     ]
    }
   ],
   "source": [
    "odd_numbers = [num for num in range(1, 101) if num % 2 != 0]\n",
    "print(odd_numbers)"
   ]
  },
  {
   "cell_type": "code",
   "execution_count": null,
   "id": "e81e204c-4dc3-45c8-9540-6066b19da84b",
   "metadata": {},
   "outputs": [],
   "source": []
  }
 ],
 "metadata": {
  "kernelspec": {
   "display_name": "Python 3 (ipykernel)",
   "language": "python",
   "name": "python3"
  },
  "language_info": {
   "codemirror_mode": {
    "name": "ipython",
    "version": 3
   },
   "file_extension": ".py",
   "mimetype": "text/x-python",
   "name": "python",
   "nbconvert_exporter": "python",
   "pygments_lexer": "ipython3",
   "version": "3.10.8"
  }
 },
 "nbformat": 4,
 "nbformat_minor": 5
}
